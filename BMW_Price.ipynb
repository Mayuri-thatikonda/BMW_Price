{
  "nbformat": 4,
  "nbformat_minor": 0,
  "metadata": {
    "colab": {
      "name": "BMW_Price.ipynb",
      "provenance": [],
      "authorship_tag": "ABX9TyPPhvCq1ZF84cyjaX1vCCQx",
      "include_colab_link": true
    },
    "kernelspec": {
      "name": "python3",
      "display_name": "Python 3"
    },
    "language_info": {
      "name": "python"
    }
  },
  "cells": [
    {
      "cell_type": "markdown",
      "metadata": {
        "id": "view-in-github",
        "colab_type": "text"
      },
      "source": [
        "<a href=\"https://colab.research.google.com/github/Mayuri-thatikonda/BMW_Price/blob/main/BMW_Price.ipynb\" target=\"_parent\"><img src=\"https://colab.research.google.com/assets/colab-badge.svg\" alt=\"Open In Colab\"/></a>"
      ]
    },
    {
      "cell_type": "code",
      "metadata": {
        "id": "fND9CiIeUwV9"
      },
      "source": [
        "import numpy as np\n",
        "import pandas as pd\n",
        "import matplotlib.pyplot as plt\n"
      ],
      "execution_count": 1,
      "outputs": []
    },
    {
      "cell_type": "code",
      "metadata": {
        "id": "08I_V8UQU6J6"
      },
      "source": [
        "dataset = pd.read_csv('bmw.csv')"
      ],
      "execution_count": 2,
      "outputs": []
    },
    {
      "cell_type": "code",
      "metadata": {
        "colab": {
          "base_uri": "https://localhost:8080/",
          "height": 206
        },
        "id": "7WEzSsqEVB9K",
        "outputId": "d30d78cf-0d52-4897-ee63-fe34e10b4a9f"
      },
      "source": [
        "dataset.head()"
      ],
      "execution_count": 3,
      "outputs": [
        {
          "output_type": "execute_result",
          "data": {
            "text/html": [
              "<div>\n",
              "<style scoped>\n",
              "    .dataframe tbody tr th:only-of-type {\n",
              "        vertical-align: middle;\n",
              "    }\n",
              "\n",
              "    .dataframe tbody tr th {\n",
              "        vertical-align: top;\n",
              "    }\n",
              "\n",
              "    .dataframe thead th {\n",
              "        text-align: right;\n",
              "    }\n",
              "</style>\n",
              "<table border=\"1\" class=\"dataframe\">\n",
              "  <thead>\n",
              "    <tr style=\"text-align: right;\">\n",
              "      <th></th>\n",
              "      <th>model</th>\n",
              "      <th>year</th>\n",
              "      <th>price</th>\n",
              "      <th>transmission</th>\n",
              "      <th>mileage</th>\n",
              "      <th>fuelType</th>\n",
              "      <th>tax</th>\n",
              "      <th>mpg</th>\n",
              "      <th>engineSize</th>\n",
              "    </tr>\n",
              "  </thead>\n",
              "  <tbody>\n",
              "    <tr>\n",
              "      <th>0</th>\n",
              "      <td>5 Series</td>\n",
              "      <td>2014</td>\n",
              "      <td>11200</td>\n",
              "      <td>Automatic</td>\n",
              "      <td>67068</td>\n",
              "      <td>Diesel</td>\n",
              "      <td>125</td>\n",
              "      <td>57.6</td>\n",
              "      <td>2.0</td>\n",
              "    </tr>\n",
              "    <tr>\n",
              "      <th>1</th>\n",
              "      <td>6 Series</td>\n",
              "      <td>2018</td>\n",
              "      <td>27000</td>\n",
              "      <td>Automatic</td>\n",
              "      <td>14827</td>\n",
              "      <td>Petrol</td>\n",
              "      <td>145</td>\n",
              "      <td>42.8</td>\n",
              "      <td>2.0</td>\n",
              "    </tr>\n",
              "    <tr>\n",
              "      <th>2</th>\n",
              "      <td>5 Series</td>\n",
              "      <td>2016</td>\n",
              "      <td>16000</td>\n",
              "      <td>Automatic</td>\n",
              "      <td>62794</td>\n",
              "      <td>Diesel</td>\n",
              "      <td>160</td>\n",
              "      <td>51.4</td>\n",
              "      <td>3.0</td>\n",
              "    </tr>\n",
              "    <tr>\n",
              "      <th>3</th>\n",
              "      <td>1 Series</td>\n",
              "      <td>2017</td>\n",
              "      <td>12750</td>\n",
              "      <td>Automatic</td>\n",
              "      <td>26676</td>\n",
              "      <td>Diesel</td>\n",
              "      <td>145</td>\n",
              "      <td>72.4</td>\n",
              "      <td>1.5</td>\n",
              "    </tr>\n",
              "    <tr>\n",
              "      <th>4</th>\n",
              "      <td>7 Series</td>\n",
              "      <td>2014</td>\n",
              "      <td>14500</td>\n",
              "      <td>Automatic</td>\n",
              "      <td>39554</td>\n",
              "      <td>Diesel</td>\n",
              "      <td>160</td>\n",
              "      <td>50.4</td>\n",
              "      <td>3.0</td>\n",
              "    </tr>\n",
              "  </tbody>\n",
              "</table>\n",
              "</div>"
            ],
            "text/plain": [
              "       model  year  price transmission  mileage fuelType  tax   mpg  engineSize\n",
              "0   5 Series  2014  11200    Automatic    67068   Diesel  125  57.6         2.0\n",
              "1   6 Series  2018  27000    Automatic    14827   Petrol  145  42.8         2.0\n",
              "2   5 Series  2016  16000    Automatic    62794   Diesel  160  51.4         3.0\n",
              "3   1 Series  2017  12750    Automatic    26676   Diesel  145  72.4         1.5\n",
              "4   7 Series  2014  14500    Automatic    39554   Diesel  160  50.4         3.0"
            ]
          },
          "metadata": {},
          "execution_count": 3
        }
      ]
    },
    {
      "cell_type": "code",
      "metadata": {
        "colab": {
          "base_uri": "https://localhost:8080/"
        },
        "id": "rHtiWrcqVtdD",
        "outputId": "76491003-df62-4f4f-bd24-b7609301ccf6"
      },
      "source": [
        "dataset.shape"
      ],
      "execution_count": 4,
      "outputs": [
        {
          "output_type": "execute_result",
          "data": {
            "text/plain": [
              "(10781, 9)"
            ]
          },
          "metadata": {},
          "execution_count": 4
        }
      ]
    },
    {
      "cell_type": "code",
      "metadata": {
        "colab": {
          "base_uri": "https://localhost:8080/",
          "height": 300
        },
        "id": "oLcVWwyzVIMI",
        "outputId": "6f88c79b-c05a-4691-c57f-85491aea1f64"
      },
      "source": [
        "dataset.describe()"
      ],
      "execution_count": 5,
      "outputs": [
        {
          "output_type": "execute_result",
          "data": {
            "text/html": [
              "<div>\n",
              "<style scoped>\n",
              "    .dataframe tbody tr th:only-of-type {\n",
              "        vertical-align: middle;\n",
              "    }\n",
              "\n",
              "    .dataframe tbody tr th {\n",
              "        vertical-align: top;\n",
              "    }\n",
              "\n",
              "    .dataframe thead th {\n",
              "        text-align: right;\n",
              "    }\n",
              "</style>\n",
              "<table border=\"1\" class=\"dataframe\">\n",
              "  <thead>\n",
              "    <tr style=\"text-align: right;\">\n",
              "      <th></th>\n",
              "      <th>year</th>\n",
              "      <th>price</th>\n",
              "      <th>mileage</th>\n",
              "      <th>tax</th>\n",
              "      <th>mpg</th>\n",
              "      <th>engineSize</th>\n",
              "    </tr>\n",
              "  </thead>\n",
              "  <tbody>\n",
              "    <tr>\n",
              "      <th>count</th>\n",
              "      <td>10781.000000</td>\n",
              "      <td>10781.000000</td>\n",
              "      <td>10781.000000</td>\n",
              "      <td>10781.000000</td>\n",
              "      <td>10781.000000</td>\n",
              "      <td>10781.000000</td>\n",
              "    </tr>\n",
              "    <tr>\n",
              "      <th>mean</th>\n",
              "      <td>2017.078935</td>\n",
              "      <td>22733.408867</td>\n",
              "      <td>25496.986550</td>\n",
              "      <td>131.702068</td>\n",
              "      <td>56.399035</td>\n",
              "      <td>2.167767</td>\n",
              "    </tr>\n",
              "    <tr>\n",
              "      <th>std</th>\n",
              "      <td>2.349038</td>\n",
              "      <td>11415.528189</td>\n",
              "      <td>25143.192559</td>\n",
              "      <td>61.510755</td>\n",
              "      <td>31.336958</td>\n",
              "      <td>0.552054</td>\n",
              "    </tr>\n",
              "    <tr>\n",
              "      <th>min</th>\n",
              "      <td>1996.000000</td>\n",
              "      <td>1200.000000</td>\n",
              "      <td>1.000000</td>\n",
              "      <td>0.000000</td>\n",
              "      <td>5.500000</td>\n",
              "      <td>0.000000</td>\n",
              "    </tr>\n",
              "    <tr>\n",
              "      <th>25%</th>\n",
              "      <td>2016.000000</td>\n",
              "      <td>14950.000000</td>\n",
              "      <td>5529.000000</td>\n",
              "      <td>135.000000</td>\n",
              "      <td>45.600000</td>\n",
              "      <td>2.000000</td>\n",
              "    </tr>\n",
              "    <tr>\n",
              "      <th>50%</th>\n",
              "      <td>2017.000000</td>\n",
              "      <td>20462.000000</td>\n",
              "      <td>18347.000000</td>\n",
              "      <td>145.000000</td>\n",
              "      <td>53.300000</td>\n",
              "      <td>2.000000</td>\n",
              "    </tr>\n",
              "    <tr>\n",
              "      <th>75%</th>\n",
              "      <td>2019.000000</td>\n",
              "      <td>27940.000000</td>\n",
              "      <td>38206.000000</td>\n",
              "      <td>145.000000</td>\n",
              "      <td>62.800000</td>\n",
              "      <td>2.000000</td>\n",
              "    </tr>\n",
              "    <tr>\n",
              "      <th>max</th>\n",
              "      <td>2020.000000</td>\n",
              "      <td>123456.000000</td>\n",
              "      <td>214000.000000</td>\n",
              "      <td>580.000000</td>\n",
              "      <td>470.800000</td>\n",
              "      <td>6.600000</td>\n",
              "    </tr>\n",
              "  </tbody>\n",
              "</table>\n",
              "</div>"
            ],
            "text/plain": [
              "               year          price  ...           mpg    engineSize\n",
              "count  10781.000000   10781.000000  ...  10781.000000  10781.000000\n",
              "mean    2017.078935   22733.408867  ...     56.399035      2.167767\n",
              "std        2.349038   11415.528189  ...     31.336958      0.552054\n",
              "min     1996.000000    1200.000000  ...      5.500000      0.000000\n",
              "25%     2016.000000   14950.000000  ...     45.600000      2.000000\n",
              "50%     2017.000000   20462.000000  ...     53.300000      2.000000\n",
              "75%     2019.000000   27940.000000  ...     62.800000      2.000000\n",
              "max     2020.000000  123456.000000  ...    470.800000      6.600000\n",
              "\n",
              "[8 rows x 6 columns]"
            ]
          },
          "metadata": {},
          "execution_count": 5
        }
      ]
    },
    {
      "cell_type": "code",
      "metadata": {
        "colab": {
          "base_uri": "https://localhost:8080/"
        },
        "id": "b-oyugH1VR30",
        "outputId": "fa4346d8-2b8f-4256-c216-8890a7c44679"
      },
      "source": [
        "dataset.info()"
      ],
      "execution_count": 6,
      "outputs": [
        {
          "output_type": "stream",
          "name": "stdout",
          "text": [
            "<class 'pandas.core.frame.DataFrame'>\n",
            "RangeIndex: 10781 entries, 0 to 10780\n",
            "Data columns (total 9 columns):\n",
            " #   Column        Non-Null Count  Dtype  \n",
            "---  ------        --------------  -----  \n",
            " 0   model         10781 non-null  object \n",
            " 1   year          10781 non-null  int64  \n",
            " 2   price         10781 non-null  int64  \n",
            " 3   transmission  10781 non-null  object \n",
            " 4   mileage       10781 non-null  int64  \n",
            " 5   fuelType      10781 non-null  object \n",
            " 6   tax           10781 non-null  int64  \n",
            " 7   mpg           10781 non-null  float64\n",
            " 8   engineSize    10781 non-null  float64\n",
            "dtypes: float64(2), int64(4), object(3)\n",
            "memory usage: 758.2+ KB\n"
          ]
        }
      ]
    },
    {
      "cell_type": "code",
      "metadata": {
        "colab": {
          "base_uri": "https://localhost:8080/",
          "height": 206
        },
        "id": "rjWZq06wlZte",
        "outputId": "8b87196a-575e-415a-a31e-45614391a82e"
      },
      "source": [
        "dataset.tail()"
      ],
      "execution_count": 7,
      "outputs": [
        {
          "output_type": "execute_result",
          "data": {
            "text/html": [
              "<div>\n",
              "<style scoped>\n",
              "    .dataframe tbody tr th:only-of-type {\n",
              "        vertical-align: middle;\n",
              "    }\n",
              "\n",
              "    .dataframe tbody tr th {\n",
              "        vertical-align: top;\n",
              "    }\n",
              "\n",
              "    .dataframe thead th {\n",
              "        text-align: right;\n",
              "    }\n",
              "</style>\n",
              "<table border=\"1\" class=\"dataframe\">\n",
              "  <thead>\n",
              "    <tr style=\"text-align: right;\">\n",
              "      <th></th>\n",
              "      <th>model</th>\n",
              "      <th>year</th>\n",
              "      <th>price</th>\n",
              "      <th>transmission</th>\n",
              "      <th>mileage</th>\n",
              "      <th>fuelType</th>\n",
              "      <th>tax</th>\n",
              "      <th>mpg</th>\n",
              "      <th>engineSize</th>\n",
              "    </tr>\n",
              "  </thead>\n",
              "  <tbody>\n",
              "    <tr>\n",
              "      <th>10776</th>\n",
              "      <td>X3</td>\n",
              "      <td>2016</td>\n",
              "      <td>19000</td>\n",
              "      <td>Automatic</td>\n",
              "      <td>40818</td>\n",
              "      <td>Diesel</td>\n",
              "      <td>150</td>\n",
              "      <td>54.3</td>\n",
              "      <td>2.0</td>\n",
              "    </tr>\n",
              "    <tr>\n",
              "      <th>10777</th>\n",
              "      <td>5 Series</td>\n",
              "      <td>2016</td>\n",
              "      <td>14600</td>\n",
              "      <td>Automatic</td>\n",
              "      <td>42947</td>\n",
              "      <td>Diesel</td>\n",
              "      <td>125</td>\n",
              "      <td>60.1</td>\n",
              "      <td>2.0</td>\n",
              "    </tr>\n",
              "    <tr>\n",
              "      <th>10778</th>\n",
              "      <td>3 Series</td>\n",
              "      <td>2017</td>\n",
              "      <td>13100</td>\n",
              "      <td>Manual</td>\n",
              "      <td>25468</td>\n",
              "      <td>Petrol</td>\n",
              "      <td>200</td>\n",
              "      <td>42.8</td>\n",
              "      <td>2.0</td>\n",
              "    </tr>\n",
              "    <tr>\n",
              "      <th>10779</th>\n",
              "      <td>1 Series</td>\n",
              "      <td>2014</td>\n",
              "      <td>9930</td>\n",
              "      <td>Automatic</td>\n",
              "      <td>45000</td>\n",
              "      <td>Diesel</td>\n",
              "      <td>30</td>\n",
              "      <td>64.2</td>\n",
              "      <td>2.0</td>\n",
              "    </tr>\n",
              "    <tr>\n",
              "      <th>10780</th>\n",
              "      <td>X1</td>\n",
              "      <td>2017</td>\n",
              "      <td>15981</td>\n",
              "      <td>Automatic</td>\n",
              "      <td>59432</td>\n",
              "      <td>Diesel</td>\n",
              "      <td>125</td>\n",
              "      <td>57.6</td>\n",
              "      <td>2.0</td>\n",
              "    </tr>\n",
              "  </tbody>\n",
              "</table>\n",
              "</div>"
            ],
            "text/plain": [
              "           model  year  price transmission  ...  fuelType  tax   mpg  engineSize\n",
              "10776         X3  2016  19000    Automatic  ...    Diesel  150  54.3         2.0\n",
              "10777   5 Series  2016  14600    Automatic  ...    Diesel  125  60.1         2.0\n",
              "10778   3 Series  2017  13100       Manual  ...    Petrol  200  42.8         2.0\n",
              "10779   1 Series  2014   9930    Automatic  ...    Diesel   30  64.2         2.0\n",
              "10780         X1  2017  15981    Automatic  ...    Diesel  125  57.6         2.0\n",
              "\n",
              "[5 rows x 9 columns]"
            ]
          },
          "metadata": {},
          "execution_count": 7
        }
      ]
    },
    {
      "cell_type": "code",
      "metadata": {
        "colab": {
          "base_uri": "https://localhost:8080/"
        },
        "id": "9kn7o2f2VeYO",
        "outputId": "239583f5-a20d-4105-8818-3344782e0d23"
      },
      "source": [
        "dataset.isnull().sum()"
      ],
      "execution_count": 8,
      "outputs": [
        {
          "output_type": "execute_result",
          "data": {
            "text/plain": [
              "model           0\n",
              "year            0\n",
              "price           0\n",
              "transmission    0\n",
              "mileage         0\n",
              "fuelType        0\n",
              "tax             0\n",
              "mpg             0\n",
              "engineSize      0\n",
              "dtype: int64"
            ]
          },
          "metadata": {},
          "execution_count": 8
        }
      ]
    },
    {
      "cell_type": "code",
      "metadata": {
        "colab": {
          "base_uri": "https://localhost:8080/"
        },
        "id": "p1HMuEXnVmfv",
        "outputId": "608921d0-dbf5-4f35-b18d-9a24d4fe73c1"
      },
      "source": [
        "dataset['model']"
      ],
      "execution_count": 9,
      "outputs": [
        {
          "output_type": "execute_result",
          "data": {
            "text/plain": [
              "0         5 Series\n",
              "1         6 Series\n",
              "2         5 Series\n",
              "3         1 Series\n",
              "4         7 Series\n",
              "           ...    \n",
              "10776           X3\n",
              "10777     5 Series\n",
              "10778     3 Series\n",
              "10779     1 Series\n",
              "10780           X1\n",
              "Name: model, Length: 10781, dtype: object"
            ]
          },
          "metadata": {},
          "execution_count": 9
        }
      ]
    },
    {
      "cell_type": "code",
      "metadata": {
        "colab": {
          "base_uri": "https://localhost:8080/",
          "height": 206
        },
        "id": "qK-16golXjsA",
        "outputId": "9c13a221-4280-4a51-bc46-669bba538207"
      },
      "source": [
        "dataset.head()"
      ],
      "execution_count": 10,
      "outputs": [
        {
          "output_type": "execute_result",
          "data": {
            "text/html": [
              "<div>\n",
              "<style scoped>\n",
              "    .dataframe tbody tr th:only-of-type {\n",
              "        vertical-align: middle;\n",
              "    }\n",
              "\n",
              "    .dataframe tbody tr th {\n",
              "        vertical-align: top;\n",
              "    }\n",
              "\n",
              "    .dataframe thead th {\n",
              "        text-align: right;\n",
              "    }\n",
              "</style>\n",
              "<table border=\"1\" class=\"dataframe\">\n",
              "  <thead>\n",
              "    <tr style=\"text-align: right;\">\n",
              "      <th></th>\n",
              "      <th>model</th>\n",
              "      <th>year</th>\n",
              "      <th>price</th>\n",
              "      <th>transmission</th>\n",
              "      <th>mileage</th>\n",
              "      <th>fuelType</th>\n",
              "      <th>tax</th>\n",
              "      <th>mpg</th>\n",
              "      <th>engineSize</th>\n",
              "    </tr>\n",
              "  </thead>\n",
              "  <tbody>\n",
              "    <tr>\n",
              "      <th>0</th>\n",
              "      <td>5 Series</td>\n",
              "      <td>2014</td>\n",
              "      <td>11200</td>\n",
              "      <td>Automatic</td>\n",
              "      <td>67068</td>\n",
              "      <td>Diesel</td>\n",
              "      <td>125</td>\n",
              "      <td>57.6</td>\n",
              "      <td>2.0</td>\n",
              "    </tr>\n",
              "    <tr>\n",
              "      <th>1</th>\n",
              "      <td>6 Series</td>\n",
              "      <td>2018</td>\n",
              "      <td>27000</td>\n",
              "      <td>Automatic</td>\n",
              "      <td>14827</td>\n",
              "      <td>Petrol</td>\n",
              "      <td>145</td>\n",
              "      <td>42.8</td>\n",
              "      <td>2.0</td>\n",
              "    </tr>\n",
              "    <tr>\n",
              "      <th>2</th>\n",
              "      <td>5 Series</td>\n",
              "      <td>2016</td>\n",
              "      <td>16000</td>\n",
              "      <td>Automatic</td>\n",
              "      <td>62794</td>\n",
              "      <td>Diesel</td>\n",
              "      <td>160</td>\n",
              "      <td>51.4</td>\n",
              "      <td>3.0</td>\n",
              "    </tr>\n",
              "    <tr>\n",
              "      <th>3</th>\n",
              "      <td>1 Series</td>\n",
              "      <td>2017</td>\n",
              "      <td>12750</td>\n",
              "      <td>Automatic</td>\n",
              "      <td>26676</td>\n",
              "      <td>Diesel</td>\n",
              "      <td>145</td>\n",
              "      <td>72.4</td>\n",
              "      <td>1.5</td>\n",
              "    </tr>\n",
              "    <tr>\n",
              "      <th>4</th>\n",
              "      <td>7 Series</td>\n",
              "      <td>2014</td>\n",
              "      <td>14500</td>\n",
              "      <td>Automatic</td>\n",
              "      <td>39554</td>\n",
              "      <td>Diesel</td>\n",
              "      <td>160</td>\n",
              "      <td>50.4</td>\n",
              "      <td>3.0</td>\n",
              "    </tr>\n",
              "  </tbody>\n",
              "</table>\n",
              "</div>"
            ],
            "text/plain": [
              "       model  year  price transmission  mileage fuelType  tax   mpg  engineSize\n",
              "0   5 Series  2014  11200    Automatic    67068   Diesel  125  57.6         2.0\n",
              "1   6 Series  2018  27000    Automatic    14827   Petrol  145  42.8         2.0\n",
              "2   5 Series  2016  16000    Automatic    62794   Diesel  160  51.4         3.0\n",
              "3   1 Series  2017  12750    Automatic    26676   Diesel  145  72.4         1.5\n",
              "4   7 Series  2014  14500    Automatic    39554   Diesel  160  50.4         3.0"
            ]
          },
          "metadata": {},
          "execution_count": 10
        }
      ]
    },
    {
      "cell_type": "code",
      "metadata": {
        "colab": {
          "base_uri": "https://localhost:8080/"
        },
        "id": "s9pfMlbTbvsv",
        "outputId": "ccd6d860-ba5f-4ed4-ae5b-ae766e0d1d34"
      },
      "source": [
        "dataset['model_car'] = dataset['model'].str[:3]\n",
        "print(dataset) "
      ],
      "execution_count": 11,
      "outputs": [
        {
          "output_type": "stream",
          "name": "stdout",
          "text": [
            "           model  year  price transmission  ...  tax   mpg  engineSize  model_car\n",
            "0       5 Series  2014  11200    Automatic  ...  125  57.6         2.0         5 \n",
            "1       6 Series  2018  27000    Automatic  ...  145  42.8         2.0         6 \n",
            "2       5 Series  2016  16000    Automatic  ...  160  51.4         3.0         5 \n",
            "3       1 Series  2017  12750    Automatic  ...  145  72.4         1.5         1 \n",
            "4       7 Series  2014  14500    Automatic  ...  160  50.4         3.0         7 \n",
            "...          ...   ...    ...          ...  ...  ...   ...         ...        ...\n",
            "10776         X3  2016  19000    Automatic  ...  150  54.3         2.0         X3\n",
            "10777   5 Series  2016  14600    Automatic  ...  125  60.1         2.0         5 \n",
            "10778   3 Series  2017  13100       Manual  ...  200  42.8         2.0         3 \n",
            "10779   1 Series  2014   9930    Automatic  ...   30  64.2         2.0         1 \n",
            "10780         X1  2017  15981    Automatic  ...  125  57.6         2.0         X1\n",
            "\n",
            "[10781 rows x 10 columns]\n"
          ]
        }
      ]
    },
    {
      "cell_type": "code",
      "metadata": {
        "id": "WEnpdcjSekJo"
      },
      "source": [
        "dataset.drop(['model'], axis=1, inplace=True)"
      ],
      "execution_count": 12,
      "outputs": []
    },
    {
      "cell_type": "code",
      "metadata": {
        "colab": {
          "base_uri": "https://localhost:8080/"
        },
        "id": "7qF-4ZqGmAJc",
        "outputId": "45d2325a-0768-40f5-d969-238a17f770e0"
      },
      "source": [
        "print(dataset)"
      ],
      "execution_count": 13,
      "outputs": [
        {
          "output_type": "stream",
          "name": "stdout",
          "text": [
            "       year  price transmission  mileage  ...  tax   mpg  engineSize  model_car\n",
            "0      2014  11200    Automatic    67068  ...  125  57.6         2.0         5 \n",
            "1      2018  27000    Automatic    14827  ...  145  42.8         2.0         6 \n",
            "2      2016  16000    Automatic    62794  ...  160  51.4         3.0         5 \n",
            "3      2017  12750    Automatic    26676  ...  145  72.4         1.5         1 \n",
            "4      2014  14500    Automatic    39554  ...  160  50.4         3.0         7 \n",
            "...     ...    ...          ...      ...  ...  ...   ...         ...        ...\n",
            "10776  2016  19000    Automatic    40818  ...  150  54.3         2.0         X3\n",
            "10777  2016  14600    Automatic    42947  ...  125  60.1         2.0         5 \n",
            "10778  2017  13100       Manual    25468  ...  200  42.8         2.0         3 \n",
            "10779  2014   9930    Automatic    45000  ...   30  64.2         2.0         1 \n",
            "10780  2017  15981    Automatic    59432  ...  125  57.6         2.0         X1\n",
            "\n",
            "[10781 rows x 9 columns]\n"
          ]
        }
      ]
    },
    {
      "cell_type": "code",
      "metadata": {
        "colab": {
          "base_uri": "https://localhost:8080/"
        },
        "id": "_qv79Tf-o6Xn",
        "outputId": "ae7a3dec-1dfd-4ff0-89c3-1fcb24fb3498"
      },
      "source": [
        "dataset['model_car'].unique()\n"
      ],
      "execution_count": 14,
      "outputs": [
        {
          "output_type": "execute_result",
          "data": {
            "text/plain": [
              "array([' 5 ', ' 6 ', ' 1 ', ' 7 ', ' 2 ', ' 4 ', ' X3', ' 3 ', ' X5',\n",
              "       ' X4', ' i3', ' X1', ' M4', ' X2', ' X6', ' 8 ', ' Z4', ' X7',\n",
              "       ' M5', ' i8', ' M2', ' M3', ' M6', ' Z3'], dtype=object)"
            ]
          },
          "metadata": {},
          "execution_count": 14
        }
      ]
    },
    {
      "cell_type": "code",
      "metadata": {
        "colab": {
          "base_uri": "https://localhost:8080/"
        },
        "id": "LqZvgLiMpLP9",
        "outputId": "d1ccde66-83df-4b7c-c12b-7cd64f18373b"
      },
      "source": [
        "dataset['model_car'].replace({\" X1\":\"9\", \" X2\": \"10\",\" X3\":\"11\",\" X4\": \"12\",\" X5\": \"13\",\" X6\": \"14\",\" X7\": \"15\",\" i3\": \"16\",\" i8\":\"17\",\" M2\": \"18\",\" M3\": \"19\",\" M4\": \"20\",\" M5\": \"21\", \" M6\": \"22\",\" Z3\": \"23\",\" Z4\": \"24\"},inplace=True)\n",
        "print(dataset)"
      ],
      "execution_count": 15,
      "outputs": [
        {
          "output_type": "stream",
          "name": "stdout",
          "text": [
            "       year  price transmission  mileage  ...  tax   mpg  engineSize  model_car\n",
            "0      2014  11200    Automatic    67068  ...  125  57.6         2.0         5 \n",
            "1      2018  27000    Automatic    14827  ...  145  42.8         2.0         6 \n",
            "2      2016  16000    Automatic    62794  ...  160  51.4         3.0         5 \n",
            "3      2017  12750    Automatic    26676  ...  145  72.4         1.5         1 \n",
            "4      2014  14500    Automatic    39554  ...  160  50.4         3.0         7 \n",
            "...     ...    ...          ...      ...  ...  ...   ...         ...        ...\n",
            "10776  2016  19000    Automatic    40818  ...  150  54.3         2.0         11\n",
            "10777  2016  14600    Automatic    42947  ...  125  60.1         2.0         5 \n",
            "10778  2017  13100       Manual    25468  ...  200  42.8         2.0         3 \n",
            "10779  2014   9930    Automatic    45000  ...   30  64.2         2.0         1 \n",
            "10780  2017  15981    Automatic    59432  ...  125  57.6         2.0          9\n",
            "\n",
            "[10781 rows x 9 columns]\n"
          ]
        }
      ]
    },
    {
      "cell_type": "code",
      "metadata": {
        "colab": {
          "base_uri": "https://localhost:8080/"
        },
        "id": "7RAkx-B8pCwU",
        "outputId": "2799a555-7bb5-4457-9387-4496747d1cc8"
      },
      "source": [
        "from sklearn.preprocessing import LabelEncoder\n",
        "le = LabelEncoder()\n",
        "dataset['transmission'] = le.fit_transform(dataset['transmission'])\n",
        "print(dataset['transmission'])"
      ],
      "execution_count": 16,
      "outputs": [
        {
          "output_type": "stream",
          "name": "stdout",
          "text": [
            "0        0\n",
            "1        0\n",
            "2        0\n",
            "3        0\n",
            "4        0\n",
            "        ..\n",
            "10776    0\n",
            "10777    0\n",
            "10778    1\n",
            "10779    0\n",
            "10780    0\n",
            "Name: transmission, Length: 10781, dtype: int64\n"
          ]
        }
      ]
    },
    {
      "cell_type": "code",
      "metadata": {
        "colab": {
          "base_uri": "https://localhost:8080/",
          "height": 206
        },
        "id": "xRCSIxywrAZi",
        "outputId": "f0f58057-2edf-4757-a23f-f8bf3bac966e"
      },
      "source": [
        "dataset.head()"
      ],
      "execution_count": 17,
      "outputs": [
        {
          "output_type": "execute_result",
          "data": {
            "text/html": [
              "<div>\n",
              "<style scoped>\n",
              "    .dataframe tbody tr th:only-of-type {\n",
              "        vertical-align: middle;\n",
              "    }\n",
              "\n",
              "    .dataframe tbody tr th {\n",
              "        vertical-align: top;\n",
              "    }\n",
              "\n",
              "    .dataframe thead th {\n",
              "        text-align: right;\n",
              "    }\n",
              "</style>\n",
              "<table border=\"1\" class=\"dataframe\">\n",
              "  <thead>\n",
              "    <tr style=\"text-align: right;\">\n",
              "      <th></th>\n",
              "      <th>year</th>\n",
              "      <th>price</th>\n",
              "      <th>transmission</th>\n",
              "      <th>mileage</th>\n",
              "      <th>fuelType</th>\n",
              "      <th>tax</th>\n",
              "      <th>mpg</th>\n",
              "      <th>engineSize</th>\n",
              "      <th>model_car</th>\n",
              "    </tr>\n",
              "  </thead>\n",
              "  <tbody>\n",
              "    <tr>\n",
              "      <th>0</th>\n",
              "      <td>2014</td>\n",
              "      <td>11200</td>\n",
              "      <td>0</td>\n",
              "      <td>67068</td>\n",
              "      <td>Diesel</td>\n",
              "      <td>125</td>\n",
              "      <td>57.6</td>\n",
              "      <td>2.0</td>\n",
              "      <td>5</td>\n",
              "    </tr>\n",
              "    <tr>\n",
              "      <th>1</th>\n",
              "      <td>2018</td>\n",
              "      <td>27000</td>\n",
              "      <td>0</td>\n",
              "      <td>14827</td>\n",
              "      <td>Petrol</td>\n",
              "      <td>145</td>\n",
              "      <td>42.8</td>\n",
              "      <td>2.0</td>\n",
              "      <td>6</td>\n",
              "    </tr>\n",
              "    <tr>\n",
              "      <th>2</th>\n",
              "      <td>2016</td>\n",
              "      <td>16000</td>\n",
              "      <td>0</td>\n",
              "      <td>62794</td>\n",
              "      <td>Diesel</td>\n",
              "      <td>160</td>\n",
              "      <td>51.4</td>\n",
              "      <td>3.0</td>\n",
              "      <td>5</td>\n",
              "    </tr>\n",
              "    <tr>\n",
              "      <th>3</th>\n",
              "      <td>2017</td>\n",
              "      <td>12750</td>\n",
              "      <td>0</td>\n",
              "      <td>26676</td>\n",
              "      <td>Diesel</td>\n",
              "      <td>145</td>\n",
              "      <td>72.4</td>\n",
              "      <td>1.5</td>\n",
              "      <td>1</td>\n",
              "    </tr>\n",
              "    <tr>\n",
              "      <th>4</th>\n",
              "      <td>2014</td>\n",
              "      <td>14500</td>\n",
              "      <td>0</td>\n",
              "      <td>39554</td>\n",
              "      <td>Diesel</td>\n",
              "      <td>160</td>\n",
              "      <td>50.4</td>\n",
              "      <td>3.0</td>\n",
              "      <td>7</td>\n",
              "    </tr>\n",
              "  </tbody>\n",
              "</table>\n",
              "</div>"
            ],
            "text/plain": [
              "   year  price  transmission  mileage fuelType  tax   mpg  engineSize model_car\n",
              "0  2014  11200             0    67068   Diesel  125  57.6         2.0        5 \n",
              "1  2018  27000             0    14827   Petrol  145  42.8         2.0        6 \n",
              "2  2016  16000             0    62794   Diesel  160  51.4         3.0        5 \n",
              "3  2017  12750             0    26676   Diesel  145  72.4         1.5        1 \n",
              "4  2014  14500             0    39554   Diesel  160  50.4         3.0        7 "
            ]
          },
          "metadata": {},
          "execution_count": 17
        }
      ]
    },
    {
      "cell_type": "code",
      "metadata": {
        "colab": {
          "base_uri": "https://localhost:8080/"
        },
        "id": "rjYErgA6r-d8",
        "outputId": "db471049-228c-411c-ee92-eea5cfdfe56e"
      },
      "source": [
        "dataset['fuelType'].unique()\n"
      ],
      "execution_count": 18,
      "outputs": [
        {
          "output_type": "execute_result",
          "data": {
            "text/plain": [
              "array(['Diesel', 'Petrol', 'Other', 'Hybrid', 'Electric'], dtype=object)"
            ]
          },
          "metadata": {},
          "execution_count": 18
        }
      ]
    },
    {
      "cell_type": "code",
      "metadata": {
        "colab": {
          "base_uri": "https://localhost:8080/"
        },
        "id": "BFq7JTZcrnoa",
        "outputId": "479315cb-5a02-425e-a88e-b714671f86f5"
      },
      "source": [
        "from sklearn.preprocessing import LabelEncoder\n",
        "le = LabelEncoder()\n",
        "dataset['fuelType'] = le.fit_transform(dataset['fuelType'])\n",
        "print(dataset['fuelType'])"
      ],
      "execution_count": 19,
      "outputs": [
        {
          "output_type": "stream",
          "name": "stdout",
          "text": [
            "0        0\n",
            "1        4\n",
            "2        0\n",
            "3        0\n",
            "4        0\n",
            "        ..\n",
            "10776    0\n",
            "10777    0\n",
            "10778    4\n",
            "10779    0\n",
            "10780    0\n",
            "Name: fuelType, Length: 10781, dtype: int64\n"
          ]
        }
      ]
    },
    {
      "cell_type": "code",
      "metadata": {
        "colab": {
          "base_uri": "https://localhost:8080/",
          "height": 206
        },
        "id": "oVG1xsbdr0-c",
        "outputId": "1422910f-2805-48b6-8163-e9f5c5c20441"
      },
      "source": [
        "dataset.head()"
      ],
      "execution_count": 20,
      "outputs": [
        {
          "output_type": "execute_result",
          "data": {
            "text/html": [
              "<div>\n",
              "<style scoped>\n",
              "    .dataframe tbody tr th:only-of-type {\n",
              "        vertical-align: middle;\n",
              "    }\n",
              "\n",
              "    .dataframe tbody tr th {\n",
              "        vertical-align: top;\n",
              "    }\n",
              "\n",
              "    .dataframe thead th {\n",
              "        text-align: right;\n",
              "    }\n",
              "</style>\n",
              "<table border=\"1\" class=\"dataframe\">\n",
              "  <thead>\n",
              "    <tr style=\"text-align: right;\">\n",
              "      <th></th>\n",
              "      <th>year</th>\n",
              "      <th>price</th>\n",
              "      <th>transmission</th>\n",
              "      <th>mileage</th>\n",
              "      <th>fuelType</th>\n",
              "      <th>tax</th>\n",
              "      <th>mpg</th>\n",
              "      <th>engineSize</th>\n",
              "      <th>model_car</th>\n",
              "    </tr>\n",
              "  </thead>\n",
              "  <tbody>\n",
              "    <tr>\n",
              "      <th>0</th>\n",
              "      <td>2014</td>\n",
              "      <td>11200</td>\n",
              "      <td>0</td>\n",
              "      <td>67068</td>\n",
              "      <td>0</td>\n",
              "      <td>125</td>\n",
              "      <td>57.6</td>\n",
              "      <td>2.0</td>\n",
              "      <td>5</td>\n",
              "    </tr>\n",
              "    <tr>\n",
              "      <th>1</th>\n",
              "      <td>2018</td>\n",
              "      <td>27000</td>\n",
              "      <td>0</td>\n",
              "      <td>14827</td>\n",
              "      <td>4</td>\n",
              "      <td>145</td>\n",
              "      <td>42.8</td>\n",
              "      <td>2.0</td>\n",
              "      <td>6</td>\n",
              "    </tr>\n",
              "    <tr>\n",
              "      <th>2</th>\n",
              "      <td>2016</td>\n",
              "      <td>16000</td>\n",
              "      <td>0</td>\n",
              "      <td>62794</td>\n",
              "      <td>0</td>\n",
              "      <td>160</td>\n",
              "      <td>51.4</td>\n",
              "      <td>3.0</td>\n",
              "      <td>5</td>\n",
              "    </tr>\n",
              "    <tr>\n",
              "      <th>3</th>\n",
              "      <td>2017</td>\n",
              "      <td>12750</td>\n",
              "      <td>0</td>\n",
              "      <td>26676</td>\n",
              "      <td>0</td>\n",
              "      <td>145</td>\n",
              "      <td>72.4</td>\n",
              "      <td>1.5</td>\n",
              "      <td>1</td>\n",
              "    </tr>\n",
              "    <tr>\n",
              "      <th>4</th>\n",
              "      <td>2014</td>\n",
              "      <td>14500</td>\n",
              "      <td>0</td>\n",
              "      <td>39554</td>\n",
              "      <td>0</td>\n",
              "      <td>160</td>\n",
              "      <td>50.4</td>\n",
              "      <td>3.0</td>\n",
              "      <td>7</td>\n",
              "    </tr>\n",
              "  </tbody>\n",
              "</table>\n",
              "</div>"
            ],
            "text/plain": [
              "   year  price  transmission  mileage  ...  tax   mpg  engineSize  model_car\n",
              "0  2014  11200             0    67068  ...  125  57.6         2.0         5 \n",
              "1  2018  27000             0    14827  ...  145  42.8         2.0         6 \n",
              "2  2016  16000             0    62794  ...  160  51.4         3.0         5 \n",
              "3  2017  12750             0    26676  ...  145  72.4         1.5         1 \n",
              "4  2014  14500             0    39554  ...  160  50.4         3.0         7 \n",
              "\n",
              "[5 rows x 9 columns]"
            ]
          },
          "metadata": {},
          "execution_count": 20
        }
      ]
    },
    {
      "cell_type": "code",
      "metadata": {
        "colab": {
          "base_uri": "https://localhost:8080/",
          "height": 369
        },
        "id": "x-o5QR1Ct3NK",
        "outputId": "cda7b3c0-8809-4992-c5cd-fb1a99890354"
      },
      "source": [
        "import seaborn as sns\n",
        "sns.catplot(x='transmission', data=dataset, kind='count');"
      ],
      "execution_count": 25,
      "outputs": [
        {
          "output_type": "display_data",
          "data": {
            "image/png": "[encoded data removed]",
            "text/plain": [
              "<Figure size 360x360 with 1 Axes>"
            ]
          },
          "metadata": {
            "needs_background": "light"
          }
        }
      ]
    },
    {
      "cell_type": "code",
      "metadata": {
        "id": "HWSZPAcvsLxb"
      },
      "source": [
        "X = dataset.loc[:,['year','transmission','mileage','fuelType','tax','mpg','engineSize','model_car']].values\n",
        "y = dataset.loc[:,['price']].values"
      ],
      "execution_count": 21,
      "outputs": []
    },
    {
      "cell_type": "code",
      "metadata": {
        "colab": {
          "base_uri": "https://localhost:8080/"
        },
        "id": "qgn_oM5usMQE",
        "outputId": "514567ce-9c03-4eaf-c620-e09c6aca8cbe"
      },
      "source": [
        "from sklearn.model_selection import train_test_split\n",
        "X_train, X_test, y_train, y_test = train_test_split(\n",
        "       X, y,test_size = 0.2, random_state=0)\n",
        "from sklearn.ensemble import RandomForestRegressor\n",
        "regressor = RandomForestRegressor(n_estimators = 10, random_state = 0)\n",
        "regressor.fit(X_train, y_train)\n",
        "y_pred = regressor.predict(X_test)\n",
        "np.set_printoptions(precision=2)\n",
        "print(np.concatenate((y_pred.reshape(len(y_pred),1), y_test.reshape(len(y_test),1)),1))\n",
        "from sklearn.metrics import r2_score\n",
        "r2_score(y_test, y_pred)"
      ],
      "execution_count": 22,
      "outputs": [
        {
          "output_type": "stream",
          "name": "stderr",
          "text": [
            "/usr/local/lib/python3.7/dist-packages/ipykernel_launcher.py:6: DataConversionWarning: A column-vector y was passed when a 1d array was expected. Please change the shape of y to (n_samples,), for example using ravel().\n",
            "  \n"
          ]
        },
        {
          "output_type": "stream",
          "name": "stdout",
          "text": [
            "[[22331.1 21980. ]\n",
            " [31272.9 29500. ]\n",
            " [16007.1 15989. ]\n",
            " ...\n",
            " [12624.7 14250. ]\n",
            " [14679.5 14100. ]\n",
            " [20380.  22000. ]]\n"
          ]
        },
        {
          "output_type": "execute_result",
          "data": {
            "text/plain": [
              "0.8994837695238788"
            ]
          },
          "metadata": {},
          "execution_count": 22
        }
      ]
    },
    {
      "cell_type": "code",
      "metadata": {
        "colab": {
          "base_uri": "https://localhost:8080/"
        },
        "id": "bMiAUpeauaQM",
        "outputId": "8c0ccc89-5166-4461-9fea-f2d604f787c1"
      },
      "source": [
        "from xgboost import XGBRegressor\n",
        "regressor = XGBRegressor()\n",
        "regressor.fit(X_train, y_train)\n",
        "from sklearn.metrics import confusion_matrix, accuracy_score\n",
        "y_pred = regressor.predict(X_test)\n",
        "from sklearn.metrics import r2_score\n",
        "r2_score(y_test, y_pred)\n",
        "from sklearn.model_selection import cross_val_score\n",
        "accuracies = cross_val_score(estimator = regressor, X = X_train, y = y_train, cv = 10)\n",
        "print(\"Accuracy: {:.2f} %\".format(accuracies.mean()*100))\n",
        "print(\"Standard Deviation: {:.2f} %\".format(accuracies.std()*100))"
      ],
      "execution_count": 26,
      "outputs": [
        {
          "output_type": "stream",
          "name": "stdout",
          "text": [
            "[18:58:58] WARNING: /workspace/src/objective/regression_obj.cu:152: reg:linear is now deprecated in favor of reg:squarederror.\n",
            "[18:58:59] WARNING: /workspace/src/objective/regression_obj.cu:152: reg:linear is now deprecated in favor of reg:squarederror.\n",
            "[18:58:59] WARNING: /workspace/src/objective/regression_obj.cu:152: reg:linear is now deprecated in favor of reg:squarederror.\n",
            "[18:59:00] WARNING: /workspace/src/objective/regression_obj.cu:152: reg:linear is now deprecated in favor of reg:squarederror.\n",
            "[18:59:00] WARNING: /workspace/src/objective/regression_obj.cu:152: reg:linear is now deprecated in favor of reg:squarederror.\n",
            "[18:59:00] WARNING: /workspace/src/objective/regression_obj.cu:152: reg:linear is now deprecated in favor of reg:squarederror.\n",
            "[18:59:01] WARNING: /workspace/src/objective/regression_obj.cu:152: reg:linear is now deprecated in favor of reg:squarederror.\n",
            "[18:59:01] WARNING: /workspace/src/objective/regression_obj.cu:152: reg:linear is now deprecated in favor of reg:squarederror.\n",
            "[18:59:02] WARNING: /workspace/src/objective/regression_obj.cu:152: reg:linear is now deprecated in favor of reg:squarederror.\n",
            "[18:59:02] WARNING: /workspace/src/objective/regression_obj.cu:152: reg:linear is now deprecated in favor of reg:squarederror.\n",
            "[18:59:02] WARNING: /workspace/src/objective/regression_obj.cu:152: reg:linear is now deprecated in favor of reg:squarederror.\n",
            "Accuracy: 93.86 %\n",
            "Standard Deviation: 1.08 %\n"
          ]
        }
      ]
    },
    {
      "cell_type": "code",
      "metadata": {
        "colab": {
          "base_uri": "https://localhost:8080/"
        },
        "id": "8S3Y2wOYuarg",
        "outputId": "56efc4c6-7534-4280-ce9b-9c23df0125d8"
      },
      "source": [
        "y = y.reshape(len(y),1)\n",
        "from sklearn.model_selection import train_test_split\n",
        "X_train, X_test, y_train, y_test = train_test_split(X, y, test_size = 0.2, random_state = 0)\n",
        "from sklearn.preprocessing import StandardScaler\n",
        "sc_X = StandardScaler()\n",
        "sc_y = StandardScaler()\n",
        "X_train = sc_X.fit_transform(X_train)\n",
        "y_train = sc_y.fit_transform(y_train)\n",
        "from sklearn.svm import SVR\n",
        "regressor = SVR(kernel = 'rbf')\n",
        "regressor.fit(X_train, y_train)\n",
        "y_pred = sc_y.inverse_transform(regressor.predict(sc_X.transform(X_test)))\n",
        "np.set_printoptions(precision=2)\n",
        "print(np.concatenate((y_pred.reshape(len(y_pred),1), y_test.reshape(len(y_test),1)),1))\n",
        "from sklearn.metrics import r2_score\n",
        "r2_score(y_test, y_pred)"
      ],
      "execution_count": 27,
      "outputs": [
        {
          "output_type": "stream",
          "name": "stderr",
          "text": [
            "/usr/local/lib/python3.7/dist-packages/sklearn/utils/validation.py:760: DataConversionWarning: A column-vector y was passed when a 1d array was expected. Please change the shape of y to (n_samples, ), for example using ravel().\n",
            "  y = column_or_1d(y, warn=True)\n"
          ]
        },
        {
          "output_type": "stream",
          "name": "stdout",
          "text": [
            "[[25919.25 21980.  ]\n",
            " [34195.52 29500.  ]\n",
            " [18167.02 15989.  ]\n",
            " ...\n",
            " [13940.67 14250.  ]\n",
            " [14822.36 14100.  ]\n",
            " [21489.22 22000.  ]]\n"
          ]
        },
        {
          "output_type": "execute_result",
          "data": {
            "text/plain": [
              "0.8661312988904917"
            ]
          },
          "metadata": {},
          "execution_count": 27
        }
      ]
    }
  ]
}